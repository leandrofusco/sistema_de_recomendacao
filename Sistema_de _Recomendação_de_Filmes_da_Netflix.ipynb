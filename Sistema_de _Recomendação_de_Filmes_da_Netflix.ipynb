{
 "cells": [
  {
   "cell_type": "markdown",
   "metadata": {},
   "source": [
    "## Sistema de Recomendação de Filmes da Netflix"
   ]
  },
  {
   "cell_type": "markdown",
   "metadata": {},
   "source": [
    "o objetivo da Net Flix é fazer com que as pessoas assistam aos filmes que mais gostam, por isso ela tem um sistema de \n",
    "recomendação, e para que suas sugestões de filmes tenham maior chance de estarem certas "
   ]
  },
  {
   "cell_type": "code",
   "execution_count": 1,
   "metadata": {},
   "outputs": [],
   "source": [
    "# Imports\n",
    "import os # para manipulação do Sistema operacional\n",
    "import random # para geração de valores randomicos\n",
    "import numpy as np # para gerar as matrizes\n",
    "import pandas as pd # para gerar o dataframe\n",
    "import seaborn as sns # gerar gráficos\n",
    "import matplotlib # gerar gráficos\n",
    "import matplotlib.pyplot as plt # gerar gráficos                 \n",
    "import scipy # operações mais avançadas com as matrizes\n",
    "import sklearn # para construção do modelo de machine learning\n",
    "from scipy import sparse\n",
    "from scipy.sparse import csr_matrix\n",
    "from sklearn.decomposition import TruncatedSVD\n",
    "from sklearn.metrics.pairwise import cosine_similarity\n",
    "from datetime import datetime # para medir o tempo de algumas operações\n",
    "\n",
    "# Formatação dos gráficos\n",
    "matplotlib.use('nbagg')\n",
    "plt.rcParams.update({'figure.max_open_warning': 0})\n",
    "sns.set_style('whitegrid')"
   ]
  },
  {
   "cell_type": "code",
   "execution_count": 2,
   "metadata": {},
   "outputs": [
    {
     "name": "stdout",
     "output_type": "stream",
     "text": [
      "matplotlib 3.3.2\n",
      "seaborn    0.11.0\n",
      "sklearn    0.23.2\n",
      "pandas     1.1.5\n",
      "scipy      1.5.2\n",
      "numpy      1.19.2\n",
      "NetFlix Prize Data\n"
     ]
    }
   ],
   "source": [
    "# Versões dos pacotes usados neste jupyter notebook\n",
    "%reload_ext watermark\n",
    "%watermark -a \"NetFlix Prize Data \" --iversions"
   ]
  },
  {
   "cell_type": "markdown",
   "metadata": {},
   "source": [
    "### Carregar os dados\n",
    "\n",
    "Para carregar os dados vamos executar as seguintes operações:\n",
    "\n",
    "- 1- Fazer a leitura das linhas de todos os arquivos disponíveis.\n",
    "- 2- Combinar todas as linhas de todos os arquivos em um único arquivo.\n",
    "- 3- Carregar o arquivo gerado em um dataframe do pandas."
   ]
  },
  {
   "cell_type": "code",
   "execution_count": 3,
   "metadata": {},
   "outputs": [],
   "source": [
    "# Marca o início da execução de leitura dos arquivos.\n",
    "start = datetime.now()"
   ]
  },
  {
   "cell_type": "code",
   "execution_count": 4,
   "metadata": {},
   "outputs": [
    {
     "name": "stdout",
     "output_type": "stream",
     "text": [
      "Lendo o arquivo dados/combined_data_1.txt...\n",
      "Concluído.\n",
      "\n",
      "Lendo o arquivo dados/combined_data_2.txt...\n",
      "Concluído.\n",
      "\n",
      "Lendo o arquivo dados/combined_data_3.txt...\n",
      "Concluído.\n",
      "\n",
      "Lendo o arquivo dados/combined_data_4.txt...\n",
      "Concluído.\n",
      "\n"
     ]
    }
   ],
   "source": [
    "# Criaremos um arquivo final chamado dados.csv\n",
    "\n",
    "# Se o arquivo não existir, criamos o arquivo em modo de escrita (w)\n",
    "if not os.path.isfile('dados/dados.csv'):\n",
    "    \n",
    "    # Cria e abre o arquivo para gravação\n",
    "    dataset = open('dados/dados.csv', mode = 'w')\n",
    "    \n",
    "    # Lista para as linhas dos arquivos\n",
    "    linhas = list()\n",
    "    \n",
    "    # Nomes e caminhos dos arquivos\n",
    "    arquivos = ['dados/combined_data_1.txt',\n",
    "                'dados/combined_data_2.txt', \n",
    "                'dados/combined_data_3.txt', \n",
    "                'dados/combined_data_4.txt']\n",
    "    \n",
    "    # Loop por cada arquivo na lista de arquivos\n",
    "    for arquivo in arquivos:\n",
    "        \n",
    "        # Print\n",
    "        print(\"Lendo o arquivo {}...\".format(arquivo))\n",
    "        \n",
    "        # Com o arquivo aberto, extraímos as linhas\n",
    "        with open(arquivo) as f:\n",
    "            \n",
    "            # Loop por cada linha do arquivo\n",
    "            for linha in f: \n",
    "                \n",
    "                # Deletamos o conteúdo da lista\n",
    "                del linhas[:] \n",
    "                \n",
    "                # Divide as linhas do arquivo pelo caracter de final de linha\n",
    "                linha = linha.strip()\n",
    "                \n",
    "                # Se encontramos \"dois pontos\" ao final da linha, fazemos replace removendo o caracter,\n",
    "                # pois queremos apenas o id do filme\n",
    "                if linha.endswith(':'):\n",
    "                    movie_id = linha.replace(':', '')\n",
    "                    \n",
    "                # Se não, criamos uma lista comprehension para fazer a separação das colunas por vírgula\n",
    "                else:\n",
    "                    \n",
    "                    # Separa as colunas\n",
    "                    linhas = [x for x in linha.split(',')]\n",
    "                    \n",
    "                    # Usa o id do filme na posição de índice zero\n",
    "                    linhas.insert(0, movie_id)\n",
    "                    \n",
    "                    # Grava o resultado no novo arquivo\n",
    "                    dataset.write(','.join(linhas))\n",
    "                    dataset.write('\\n')\n",
    "                    \n",
    "        print(\"Concluído.\\n\")\n",
    "        \n",
    "    dataset.close()"
   ]
  },
  {
   "cell_type": "code",
   "execution_count": 5,
   "metadata": {},
   "outputs": [
    {
     "name": "stdout",
     "output_type": "stream",
     "text": [
      "Tempo Total Para Carregar os Arquivos: 1:46:10.791388\n"
     ]
    }
   ],
   "source": [
    "# Imprime o tempop total\n",
    "print('Tempo Total Para Carregar os Arquivos:', datetime.now() - start)"
   ]
  },
  {
   "cell_type": "code",
   "execution_count": 11,
   "metadata": {},
   "outputs": [
    {
     "name": "stdout",
     "output_type": "stream",
     "text": [
      "Criando um dataframe a partir dos dados gerados acima no arquivo dados.csv...\n",
      "concluído\n"
     ]
    }
   ],
   "source": [
    "print(\"Criando um dataframe a partir dos dados gerados acima no arquivo dados.csv...\")\n",
    "df_netflix = pd.read_csv('dados/dados.csv', sep =',', names =['movie','user','rating','date'])\n",
    "df_netflix.date = pd.to_datetime(df_netflix.date)\n",
    "print('concluído')"
   ]
  },
  {
   "cell_type": "code",
   "execution_count": 12,
   "metadata": {},
   "outputs": [
    {
     "name": "stdout",
     "output_type": "stream",
     "text": [
      "Ordenando o dataframe por data..\n",
      "Concluído.\n"
     ]
    }
   ],
   "source": [
    "# Ordenando o dataframe por data\n",
    "print('Ordenando o dataframe por data..')\n",
    "df_netflix.sort_values(by = 'date', inplace = True)\n",
    "print('Concluído.')"
   ]
  },
  {
   "cell_type": "code",
   "execution_count": null,
   "metadata": {},
   "outputs": [],
   "source": [
    "# shape\n",
    "df_netfrlix.shape"
   ]
  },
  {
   "cell_type": "code",
   "execution_count": null,
   "metadata": {},
   "outputs": [],
   "source": [
    "df_netflix.head()"
   ]
  }
 ],
 "metadata": {
  "kernelspec": {
   "display_name": "Python 3",
   "language": "python",
   "name": "python3"
  },
  "language_info": {
   "codemirror_mode": {
    "name": "ipython",
    "version": 3
   },
   "file_extension": ".py",
   "mimetype": "text/x-python",
   "name": "python",
   "nbconvert_exporter": "python",
   "pygments_lexer": "ipython3",
   "version": "3.7.9"
  }
 },
 "nbformat": 4,
 "nbformat_minor": 4
}
